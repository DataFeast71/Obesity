{
 "cells": [
  {
   "cell_type": "markdown",
   "id": "educated-penalty",
   "metadata": {},
   "source": [
    "# Datos Obesidad\n",
    "\n",
    "El análisis de los datos se realizó en R y puedes ver el correpondiente notebook en la misma carpeta. En este solo estamos interesados en generar los dato en formato JSON para otras actividades."
   ]
  },
  {
   "cell_type": "code",
   "execution_count": 1,
   "id": "younger-dover",
   "metadata": {},
   "outputs": [],
   "source": [
    "import pandas as pd\n",
    "import json"
   ]
  },
  {
   "cell_type": "code",
   "execution_count": 2,
   "id": "biblical-overview",
   "metadata": {},
   "outputs": [
    {
     "name": "stdout",
     "output_type": "stream",
     "text": [
      "(6309, 7)\n"
     ]
    },
    {
     "data": {
      "text/html": [
       "<div>\n",
       "<style scoped>\n",
       "    .dataframe tbody tr th:only-of-type {\n",
       "        vertical-align: middle;\n",
       "    }\n",
       "\n",
       "    .dataframe tbody tr th {\n",
       "        vertical-align: top;\n",
       "    }\n",
       "\n",
       "    .dataframe thead th {\n",
       "        text-align: right;\n",
       "    }\n",
       "</style>\n",
       "<table border=\"1\" class=\"dataframe\">\n",
       "  <thead>\n",
       "    <tr style=\"text-align: right;\">\n",
       "      <th></th>\n",
       "      <th>Entity</th>\n",
       "      <th>Code</th>\n",
       "      <th>Year</th>\n",
       "      <th>Population</th>\n",
       "      <th>Continent</th>\n",
       "      <th>Daily_caloric_supply</th>\n",
       "      <th>Overweight_or_Obese</th>\n",
       "    </tr>\n",
       "  </thead>\n",
       "  <tbody>\n",
       "    <tr>\n",
       "      <th>0</th>\n",
       "      <td>Afghanistan</td>\n",
       "      <td>AFG</td>\n",
       "      <td>1975</td>\n",
       "      <td>12590286</td>\n",
       "      <td>Asia</td>\n",
       "      <td>2752</td>\n",
       "      <td>7.1</td>\n",
       "    </tr>\n",
       "    <tr>\n",
       "      <th>1</th>\n",
       "      <td>Afghanistan</td>\n",
       "      <td>AFG</td>\n",
       "      <td>1976</td>\n",
       "      <td>12840299</td>\n",
       "      <td>Asia</td>\n",
       "      <td>2824</td>\n",
       "      <td>7.1</td>\n",
       "    </tr>\n",
       "    <tr>\n",
       "      <th>2</th>\n",
       "      <td>Afghanistan</td>\n",
       "      <td>AFG</td>\n",
       "      <td>1977</td>\n",
       "      <td>13067538</td>\n",
       "      <td>Asia</td>\n",
       "      <td>2489</td>\n",
       "      <td>7.2</td>\n",
       "    </tr>\n",
       "    <tr>\n",
       "      <th>3</th>\n",
       "      <td>Afghanistan</td>\n",
       "      <td>AFG</td>\n",
       "      <td>1978</td>\n",
       "      <td>13237734</td>\n",
       "      <td>Asia</td>\n",
       "      <td>2621</td>\n",
       "      <td>7.3</td>\n",
       "    </tr>\n",
       "    <tr>\n",
       "      <th>4</th>\n",
       "      <td>Afghanistan</td>\n",
       "      <td>AFG</td>\n",
       "      <td>1979</td>\n",
       "      <td>13306695</td>\n",
       "      <td>Asia</td>\n",
       "      <td>2621</td>\n",
       "      <td>7.3</td>\n",
       "    </tr>\n",
       "  </tbody>\n",
       "</table>\n",
       "</div>"
      ],
      "text/plain": [
       "        Entity Code  Year  Population Continent  Daily_caloric_supply  \\\n",
       "0  Afghanistan  AFG  1975    12590286      Asia                  2752   \n",
       "1  Afghanistan  AFG  1976    12840299      Asia                  2824   \n",
       "2  Afghanistan  AFG  1977    13067538      Asia                  2489   \n",
       "3  Afghanistan  AFG  1978    13237734      Asia                  2621   \n",
       "4  Afghanistan  AFG  1979    13306695      Asia                  2621   \n",
       "\n",
       "   Overweight_or_Obese  \n",
       "0                  7.1  \n",
       "1                  7.1  \n",
       "2                  7.2  \n",
       "3                  7.3  \n",
       "4                  7.3  "
      ]
     },
     "execution_count": 2,
     "metadata": {},
     "output_type": "execute_result"
    }
   ],
   "source": [
    "df = pd.read_csv(\"./data/Obesity_clean_country.csv\")\n",
    "print(df.shape)\n",
    "df.head()"
   ]
  },
  {
   "cell_type": "code",
   "execution_count": 3,
   "id": "abstract-commercial",
   "metadata": {},
   "outputs": [
    {
     "data": {
      "text/html": [
       "<div>\n",
       "<style scoped>\n",
       "    .dataframe tbody tr th:only-of-type {\n",
       "        vertical-align: middle;\n",
       "    }\n",
       "\n",
       "    .dataframe tbody tr th {\n",
       "        vertical-align: top;\n",
       "    }\n",
       "\n",
       "    .dataframe thead th {\n",
       "        text-align: right;\n",
       "    }\n",
       "</style>\n",
       "<table border=\"1\" class=\"dataframe\">\n",
       "  <thead>\n",
       "    <tr style=\"text-align: right;\">\n",
       "      <th></th>\n",
       "      <th>Entity</th>\n",
       "      <th>Code</th>\n",
       "      <th>Year</th>\n",
       "      <th>Population</th>\n",
       "      <th>Continent</th>\n",
       "      <th>Daily_caloric_supply</th>\n",
       "      <th>Overweight_or_Obese</th>\n",
       "    </tr>\n",
       "  </thead>\n",
       "  <tbody>\n",
       "    <tr>\n",
       "      <th>0</th>\n",
       "      <td>Afghanistan</td>\n",
       "      <td>AFG</td>\n",
       "      <td>1975</td>\n",
       "      <td>12590286</td>\n",
       "      <td>Asia</td>\n",
       "      <td>2752</td>\n",
       "      <td>7.1</td>\n",
       "    </tr>\n",
       "    <tr>\n",
       "      <th>39</th>\n",
       "      <td>Albania</td>\n",
       "      <td>ALB</td>\n",
       "      <td>1975</td>\n",
       "      <td>2411229</td>\n",
       "      <td>Europe</td>\n",
       "      <td>2494</td>\n",
       "      <td>33.6</td>\n",
       "    </tr>\n",
       "    <tr>\n",
       "      <th>78</th>\n",
       "      <td>Algeria</td>\n",
       "      <td>DZA</td>\n",
       "      <td>1975</td>\n",
       "      <td>16709099</td>\n",
       "      <td>Africa</td>\n",
       "      <td>2058</td>\n",
       "      <td>25.9</td>\n",
       "    </tr>\n",
       "    <tr>\n",
       "      <th>117</th>\n",
       "      <td>Angola</td>\n",
       "      <td>AGO</td>\n",
       "      <td>1975</td>\n",
       "      <td>7682479</td>\n",
       "      <td>Africa</td>\n",
       "      <td>1858</td>\n",
       "      <td>8.2</td>\n",
       "    </tr>\n",
       "    <tr>\n",
       "      <th>156</th>\n",
       "      <td>Antigua and Barbuda</td>\n",
       "      <td>ATG</td>\n",
       "      <td>1975</td>\n",
       "      <td>71609</td>\n",
       "      <td>Americas</td>\n",
       "      <td>1857</td>\n",
       "      <td>27.0</td>\n",
       "    </tr>\n",
       "  </tbody>\n",
       "</table>\n",
       "</div>"
      ],
      "text/plain": [
       "                  Entity Code  Year  Population Continent  \\\n",
       "0            Afghanistan  AFG  1975    12590286      Asia   \n",
       "39               Albania  ALB  1975     2411229    Europe   \n",
       "78               Algeria  DZA  1975    16709099    Africa   \n",
       "117               Angola  AGO  1975     7682479    Africa   \n",
       "156  Antigua and Barbuda  ATG  1975       71609  Americas   \n",
       "\n",
       "     Daily_caloric_supply  Overweight_or_Obese  \n",
       "0                    2752                  7.1  \n",
       "39                   2494                 33.6  \n",
       "78                   2058                 25.9  \n",
       "117                  1858                  8.2  \n",
       "156                  1857                 27.0  "
      ]
     },
     "execution_count": 3,
     "metadata": {},
     "output_type": "execute_result"
    }
   ],
   "source": [
    "df_year = df[df['Year'] == 1975]\n",
    "df_year.head()"
   ]
  },
  {
   "cell_type": "code",
   "execution_count": 4,
   "id": "empty-mention",
   "metadata": {},
   "outputs": [],
   "source": [
    "data_all = []\n",
    "for year, info in df.groupby('Year'):\n",
    "    data = json.dumps({'Year': year, \n",
    "                     'countries': info.drop(['Year'], axis=1).to_dict(orient=\"records\")})\n",
    "    data_all.append(data)"
   ]
  },
  {
   "cell_type": "code",
   "execution_count": 5,
   "id": "expanded-pantyhose",
   "metadata": {},
   "outputs": [
    {
     "data": {
      "text/plain": [
       "39"
      ]
     },
     "execution_count": 5,
     "metadata": {},
     "output_type": "execute_result"
    }
   ],
   "source": [
    "len(data_all)"
   ]
  },
  {
   "cell_type": "code",
   "execution_count": 7,
   "id": "level-guidance",
   "metadata": {},
   "outputs": [
    {
     "data": {
      "text/plain": [
       "39"
      ]
     },
     "execution_count": 7,
     "metadata": {},
     "output_type": "execute_result"
    }
   ],
   "source": [
    "df['Year'].nunique()"
   ]
  },
  {
   "cell_type": "code",
   "execution_count": 9,
   "id": "academic-hundred",
   "metadata": {},
   "outputs": [],
   "source": [
    "with open('data.json', 'w') as outfile:\n",
    "    json.dump(data_all, outfile)"
   ]
  }
 ],
 "metadata": {
  "kernelspec": {
   "display_name": "Python 3",
   "language": "python",
   "name": "python3"
  },
  "language_info": {
   "codemirror_mode": {
    "name": "ipython",
    "version": 3
   },
   "file_extension": ".py",
   "mimetype": "text/x-python",
   "name": "python",
   "nbconvert_exporter": "python",
   "pygments_lexer": "ipython3",
   "version": "3.7.6"
  }
 },
 "nbformat": 4,
 "nbformat_minor": 5
}
